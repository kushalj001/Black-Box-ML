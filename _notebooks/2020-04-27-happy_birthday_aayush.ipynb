{
 "cells": [
  {
   "cell_type": "markdown",
   "metadata": {},
   "source": [
    "# WELCOME AYUSH SIR"
   ]
  },
  {
   "cell_type": "markdown",
   "metadata": {},
   "source": [
    "My blog has been really enlighted by your presence. \n",
    "\n",
    "This post will make the blog trending in no time. To wish you on your birthday in this trying times on this platform...WOW!. <br>  The utility of the blog has been increased tenfold. \n",
    "\n",
    "Let the world know that while LSTM's and Embeddings are useful, nothing matters if the edium is not used to wish your dear friends."
   ]
  },
  {
   "cell_type": "markdown",
   "metadata": {},
   "source": [
    "That said, let's just jeep wishing you forever. "
   ]
  },
  {
   "cell_type": "code",
   "execution_count": null,
   "metadata": {},
   "outputs": [],
   "source": [
    "print(\"From everyone here at ADB - \")\n",
    "while True:\n",
    "    print(\"HAPPY BIRTHDAY AAYUSH\")"
   ]
  },
  {
   "cell_type": "markdown",
   "metadata": {},
   "source": [
    "Moving on, \n",
    "\n",
    "Your next clue will take you to another location out there. (Just like life...ain't it?)"
   ]
  },
  {
   "cell_type": "markdown",
   "metadata": {},
   "source": [
    "Your job is to piece together answers to the quiz to form a new link that will be your next destination. \n",
    "\n",
    "![](images/ca.gif)"
   ]
  },
  {
   "cell_type": "markdown",
   "metadata": {},
   "source": [
    "Well, Thank you. \n",
    "\n",
    "# LETS BEGIN"
   ]
  },
  {
   "cell_type": "markdown",
   "metadata": {},
   "source": [
    "The link - \"bit.ly/_______\"\n",
    "\n",
    "Figure out the next seven characters after '/'\n",
    "\n",
    "- The characters might be digits or capital letters"
   ]
  },
  {
   "cell_type": "markdown",
   "metadata": {},
   "source": [
    "## Character 1 (Digit)- \n",
    "\n",
    "You have heard it, so you would know...<br>\n",
    "Let those memory cells in you flow...\n",
    "\n",
    "It is the first character of a famous song...  \n",
    "If you try hard, you won't be wrong.\n",
    "\n",
    "Song - \n",
    "![](images/guns.jpg)"
   ]
  },
  {
   "cell_type": "markdown",
   "metadata": {},
   "source": [
    "If you still don't get it...you are not really keen. <br>\n",
    "I hope your day still may be green."
   ]
  },
  {
   "cell_type": "markdown",
   "metadata": {},
   "source": [
    "## Character 2 (Capital Letter)\n",
    "\n",
    "\n",
    "Well, you figured that out? \n",
    "\n",
    "![](images/np.jpg)\n",
    "\n",
    "\n",
    "I hope you are a fan of Natalie Portman. Because Why not?"
   ]
  },
  {
   "cell_type": "markdown",
   "metadata": {},
   "source": [
    "So, Jimit shaved his head for this qurantine.  \n",
    "And so did Natalie Portman's character for this movie\n",
    "\n",
    "Guess the movie and there you will have your character as well.\n",
    "\n",
    "Also, V all really love you."
   ]
  },
  {
   "cell_type": "markdown",
   "metadata": {},
   "source": [
    "## Character 3 (Capital Letter)\n",
    "\n",
    "Are you hating this quiz, well then - \n",
    "![](images/bp.gif)"
   ]
  },
  {
   "cell_type": "markdown",
   "metadata": {},
   "source": [
    "While we were scared that Word War 3 might break out...\n",
    "\n",
    "The guy from \"I hate Rachel Green Club\" was fighting a different world war altogether\"\n",
    "\n",
    "Guess his war and there you shall have it.   \n",
    "If not, then come on - think a bit"
   ]
  },
  {
   "cell_type": "markdown",
   "metadata": {},
   "source": [
    "## Character 4 (Digit)\n",
    "\n",
    "We all just need a million dollars (Not Jimit though).\n",
    "\n",
    "Or maybe we just need to find the one Rachel out there for us as well? But, what if she might be a lesbian? \n",
    "\n",
    "![](images/pilot.png)\n",
    "\n",
    "\"***The _\\_\\_\\_\\_____ where it all began***\""
   ]
  },
  {
   "cell_type": "markdown",
   "metadata": {},
   "source": [
    "## Character 5 (Capital Letter)"
   ]
  },
  {
   "cell_type": "markdown",
   "metadata": {},
   "source": [
    "Now, there is no time to halt...\n",
    "The clue here is the final QUEEN in the North. \n",
    "\n",
    "She also played Phoenix (Jean Grey) in the Movie: X-Men\n",
    "Now, this will be figured out even by a layman...\n",
    "\n",
    "2nd letter of the Last Name of this girl. \n",
    "\n",
    "Among other things, she also has a \"Derani-Jethani\" relationship with our girl - PC\n",
    "\n",
    "![](images/pc.gif)"
   ]
  },
  {
   "cell_type": "markdown",
   "metadata": {},
   "source": [
    "## Character 6 (Digit)"
   ]
  },
  {
   "cell_type": "markdown",
   "metadata": {},
   "source": [
    "The episode that Michael left the office was such a tearjerker.\n",
    "\n",
    "![](images/mc.jpg)\n",
    "\n",
    "We still miss him so dearly. He was a part of Office. \n",
    "He worked there for so much time. Similar to watching Die Hard 80000 times.\n",
    "\n",
    "How much time exactly? How many minutes? I just don't recollect it. \n",
    "\n",
    "The character is just middle digit of that number?\n",
    "\n",
    "Also, after going to end up wherever we go, ***Remember to Call***  \n",
    "Or, it's going to hurt like a motherfucker. "
   ]
  },
  {
   "cell_type": "markdown",
   "metadata": {},
   "source": [
    "## Character 7 (Capital Letter)"
   ]
  },
  {
   "cell_type": "markdown",
   "metadata": {},
   "source": [
    "TED's secret identity in How I Met your Mother. <br>\n",
    "Pirate DJ Doctor _ (Real Fan of the band - DISHWALLA) <br>\n",
    "\n",
    "\n",
    "Or just - \n",
    "\n",
    "\n",
    "\n",
    "![](images/x.jpg)\n",
    "\n",
    "James McAvoy at the Xavier's school for gifted Youngsters.    \n",
    "Come on now...this couldn't get any easier.\n",
    "\n",
    "PROFESSOR _"
   ]
  },
  {
   "cell_type": "markdown",
   "metadata": {},
   "source": [
    " "
   ]
  },
  {
   "cell_type": "markdown",
   "metadata": {},
   "source": [
    " "
   ]
  },
  {
   "cell_type": "markdown",
   "metadata": {},
   "source": [
    "# End"
   ]
  },
  {
   "cell_type": "markdown",
   "metadata": {},
   "source": [
    "Happy birthday once again"
   ]
  },
  {
   "cell_type": "markdown",
   "metadata": {},
   "source": [
    "I hope you enjoyed the quiz."
   ]
  },
  {
   "cell_type": "markdown",
   "metadata": {},
   "source": [
    "Please proceed to the next destination - "
   ]
  },
  {
   "cell_type": "markdown",
   "metadata": {},
   "source": [
    "LINK  - ***bit.ly/{insert 7 characters from above here}***\n",
    "\n",
    "Note: If you were not listening...the characters are either digits or CAPITAL LETTERS."
   ]
  },
  {
   "cell_type": "markdown",
   "metadata": {},
   "source": [
    "![](images/cat.jpg)"
   ]
  },
  {
   "cell_type": "code",
   "execution_count": null,
   "metadata": {},
   "outputs": [],
   "source": []
  }
 ],
 "metadata": {
  "kernelspec": {
   "display_name": "Python 3",
   "language": "python",
   "name": "python3"
  },
  "language_info": {
   "codemirror_mode": {
    "name": "ipython",
    "version": 3
   },
   "file_extension": ".py",
   "mimetype": "text/x-python",
   "name": "python",
   "nbconvert_exporter": "python",
   "pygments_lexer": "ipython3",
   "version": "3.6.3"
  }
 },
 "nbformat": 4,
 "nbformat_minor": 2
}
