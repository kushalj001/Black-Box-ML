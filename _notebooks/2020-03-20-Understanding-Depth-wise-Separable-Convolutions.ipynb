{
 "cells": [
  {
   "cell_type": "markdown",
   "metadata": {},
   "source": [
    "# Understanding Depth-wise Separable Convolutions \n",
    "> \"Understand how depthwise convolutions are calculated and why they are faster than normal convolutions with intuition and illustrations and code.\"\n",
    "- toc: true\n",
    "- branch: master\n",
    "- badges: true\n",
    "- image: images/depthconv.PNG\n",
    "- comments: true\n",
    "- author: Kushal Jain\n",
    "- categories: [Convolutions, Depthwise Separable Convolutions, PyTorch-Implementation, PyTorch]"
   ]
  },
  {
   "cell_type": "markdown",
   "metadata": {},
   "source": [
    "> This blog post is a small excerpt from my work on paper-annotations for the task of question answering. This [repo](https://github.com/kushalj001/pytorch-question-answering) contains a collection of important question-answering papers, implemented from scratch in pytorch with detailed explanation of various concepts/components introduced in the respective papers. The illustrations in this blog post have been created by me using https://www.diagrams.net/. You can find the other references below."
   ]
  },
  {
   "cell_type": "markdown",
   "metadata": {},
   "source": [
    "## Depthwise Separable Convolutions\n",
    "\n",
    "Depthwise separable convolutions serve the same purpose as normal convolutions with the only difference being that they are faster because they reduce the number of multiplication operations. This is done by breaking the convolution operation into two parts: depthwise convolution and pointwise convolution.\n",
    ">  *Depthwise separable convolutions are used rather than traditional ones, as we observe that it is memory efﬁcient and has better generalization. *\n",
    "\n",
    "Let's understand why depthwise convolutions are faster than traditional convolution.\n",
    "Traditional convolution can be visualized as,\n",
    "\n",
    "<img src=\"images/conv2d.PNG\" width=\"900\" height=\"900\"/>\n",
    "\n",
    "Let's count the number of multiplications in a traditional convolution operation.  \n",
    "The number of multiplications for a single convolution operation is the number of elements inside the kernel. This is $D_{K}$ X $D_{K}$ X $M$ = $D_{K}^{2}$ X $M$.\n",
    "To get the output feature map, we slide or convolve this kernel over the input. Given the output dimensions, we perform $D_{O}$ covolutions along the width and the height of the input image. Therefore, the number of multiplications per kernel are $D_{O}^{2}$ X $D_{K}^{2}$ X $M$.   \n",
    "These calculations are for a single kernel. In convolutional neural networks, we usually use multiple kernels. Each kernel is expected to extract a unique feature from the input. If we use $N$ such filters, then number of multiplications become \n",
    "$N$ X $D_{O}^{2}$ X $D_{K}^{2}$ X $M$.  \n",
    "\n",
    "### Depthwise convolution\n",
    "\n",
    "<img src=\"images/depthconv.PNG\" width=\"900\" height=\"900\"/>\n",
    "\n",
    "In depthwise convolution we perform convolution using kernels of dimension $D_{K}$ X $D_{K}$ X 1. Therefore the number of multiplications in a single convolution operation would be $D_{K}^{2}$ X $1$. If the output dimension is $D_{O}$, then the number of multiplications per kernel are $D_{K}^{2}$ X $D_{O}^{2}$. If there are $M$ input channels, we need to use $M$ such kernels, one kernel for each input channel to get the all the features. For $M$ kernels, we then get $D_{K}^{2}$ X $D_{O}^{2}$ X $M$ multiplications. \n",
    "\n",
    "### Pointwise convolution\n",
    "\n",
    "<img src=\"images/pointconv.PNG\" width=\"800\" height=\"800\"/>\n",
    "\n",
    "This part takes the output from depthwise convolution and performs convolution operation with a kernel of size 1 X 1 X $N$, where $N$ is the desired number of output features/channels. Here similarly,   \n",
    "Multiplications per 1 convolution operation = 1 X 1 X $M$  \n",
    "Multiplications per kernel = $D_{O}^{2}$ X $M$  \n",
    "For N output features = $N$ X $D_{O}^{2}$ X $M$\n",
    "  \n",
    "   \n",
    "Adding up the number of multiplications from both the phases, we get, \n",
    "\n",
    "$$ =\\  N\\ .\\ D_{O}^{2} \\ .\\ M \\ +\\ D_{K}^{2}\\ .\\ D_{O}^{2}\\ .\\ M $$\n",
    "$$ =\\  D_{O}^{2}\\ .\\ M (N + D_{K}^{2}) $$\n",
    "\n",
    "Comparing this with traditional convolutions, \n",
    "\n",
    "$$ =\\ \\frac {D_{O}^{2}\\ .\\ M\\ (N + D_{K}^{2})} {D_{O}^{2}\\ .\\  M\\ .\\ D_{K}^{2}\\ .\\ N}$$  \n",
    "\n",
    "$$ =\\  \\frac{1}{D_{K}^{2}}\\ +\\ \\frac{1}{N} $$\n",
    "\n",
    "This clearly shows that the number of computations in depthwise separable convolutions are lesser than traditional ones.\n",
    "In code, the depthwise phase of the convolution is done by assigning `groups` as `in_channels`. According to the documentation, \n",
    "\n",
    "> *At groups= `in_channels`, each `nput channel is convolved with its own set of filters, of size: $\\left\\lfloor\\frac{out\\_channels}{in\\_channels}\\right\\rfloor$*"
   ]
  },
  {
   "cell_type": "markdown",
   "metadata": {},
   "source": [
    "## Implementation \n",
    "\n",
    "Following is an implementation for the layer discussed above. This is a standalone implementation of the layer and can be plugged into any application/larger model where it is used as a component."
   ]
  },
  {
   "cell_type": "code",
   "execution_count": 2,
   "metadata": {},
   "outputs": [],
   "source": [
    "import torch\n",
    "from torch import nn\n",
    "\n",
    "class DepthwiseSeparableConvolution(nn.Module):\n",
    "    \n",
    "    def __init__(self, in_channels, out_channels, kernel_size):\n",
    "        \n",
    "        super().__init__()\n",
    "      \n",
    "            \n",
    "        self.depthwise_conv = nn.Conv2d(in_channels=in_channels, out_channels=in_channels,\n",
    "                                    kernel_size=kernel_size, groups=in_channels, padding=kernel_size//2)\n",
    "\n",
    "        self.pointwise_conv = nn.Conv2d(in_channels, out_channels, kernel_size=1, padding=0)\n",
    "\n",
    "    \n",
    "    def forward(self, x):\n",
    "        \n",
    "        # Interpretations\n",
    "        # x = [bs, seq_len, emb_dim] for NLP applications\n",
    "        # x = [C_in, H_in, W_in] for CV applications\n",
    "        x = self.pointwise_conv(self.depthwise_conv(x))\n",
    "      \n",
    "        return x"
   ]
  },
  {
   "cell_type": "markdown",
   "metadata": {},
   "source": [
    "## References\n",
    "\n",
    "* The QANet paper: https://arxiv.org/abs/1804.09541\n",
    "* Convolutional Neural Networks for Sentence Classification: https://arxiv.org/abs/1408.5882\n",
    "* https://www.youtube.com/watch?v=T7o3xvJLuHk. Easy explanation of depthwise separable convolutions.\n",
    "*  https://towardsdatascience.com/a-basic-introduction-to-separable-convolutions-b99ec3102728. Another amazing blog for depthwise separable convolutions.\n"
   ]
  }
 ],
 "metadata": {
  "kernelspec": {
   "display_name": "Python 3",
   "language": "python",
   "name": "python3"
  },
  "language_info": {
   "codemirror_mode": {
    "name": "ipython",
    "version": 3
   },
   "file_extension": ".py",
   "mimetype": "text/x-python",
   "name": "python",
   "nbconvert_exporter": "python",
   "pygments_lexer": "ipython3",
   "version": "3.7.7"
  }
 },
 "nbformat": 4,
 "nbformat_minor": 2
}
