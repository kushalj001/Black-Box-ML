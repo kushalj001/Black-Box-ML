{
 "cells": [
  {
   "cell_type": "markdown",
   "metadata": {},
   "source": [
    "# Building Sequential Models in PyTorch\n",
    "> \"Build a sentiment analysis model using PyTorch and torchText\"\n",
    "- toc: true\n",
    "- branch: master\n",
    "- badges: true\n",
    "- image: images/lstmpt.PNG\n",
    "- comments: true\n",
    "- categories: [lstm, pytorch, torchtext, NLP, sentiment-analysis]"
   ]
  },
  {
   "cell_type": "markdown",
   "metadata": {},
   "source": [
    "## Introduction\n",
    "The aim of this post is to enable beginners to get started with building sequential models in PyTorch. PyTorch is one of the most widely used deep learning libraries and is an extremely popular choice among researchers due to the amount of control it provides to its users and its _pythonic_ layout. I am writing this primarily as a resource that I can refer to in future. This post will help in brushing up all the basics of PyTorch and also provide a detailed explanation of how to use some important torch.nn modules.   \n",
    "We will be implementing a common NLP task - sentiment analysis using PyTorch and torchText. We will be building an LSTM network for the task by using the IMDB dataset. Let's get started!\n",
    "\n",
    "### A Tensor based approach\n",
    "Another motivation to write this post is to introduce neural nets from tensors' persepective. Neural nets are, ultimately, a series of matrix/tensor multiplications. Each layer in a neural net expects an input in a specified format and gives the output in a specified format. These input and output formats are tensors of different shapes. The content of these tensors are well defined by the documentation of the concerned library. As such, while implementing neural nets, it becomes very important to understand the input and output shapes of tensors for all layers. The following tutorial is written based on this approach. \n",
    "\n",
    "## A short Introduction to NLP pipeline\n",
    "I do not intend to go into details about all the preprocessing steps that are required for NLP tasks but for the sake of completeness, I'll summarize some important conceptual points. \n",
    "* Textual data usually requires some amount of cleaning before they can be fed to neural nets. Important cleaning steps include removal of HTML tags, punctuation, stopwords, numbers etc. Stopwords are high frequency words in a dataset that do not convey significant information to the network (e.g. and, of, the, a).\n",
    "* Lemmatization can be performed to improve results of the network. Lemmatization converts words to their root form or to their lemma which can be found in a dictionary. For example \"goes\" $->$ \"go\".\n",
    "* Neural nets do not understand natural language. In fact the only thing they understand and can process are numbers. So for any NLP task, we need to convert out text data into a numerical format (numericalization). Each word in the dataset is assigned a numerical value. These words need to be represented as a vector.\n",
    "* There are two options to represent a word or a token as a feature vector.  \n",
    "   1. One-hot encoding: Here, the size of the feature vector equals that of the vocabulary of dataset. All the values are 0 except for the index that equals the numerical value of the word.  \n",
    "   2. Embeddings: These can either be pre-trained(GloVe, word2vec) or be trained in parallel with the main task. The dimensions of such vectors are usually around 100-300. These transform the features of the word into a dense vector.\n",
    "   "
   ]
  },
  {
   "cell_type": "markdown",
   "metadata": {},
   "source": [
    "## TorchText basics\n",
    "Some key points about the structure of the library will serve as a good introduction and also help in following along the rest of the tutorial.  \n",
    "\n",
    "The most important class of torchtext is the `Field` class. The structure of datasets for different NLP tasks is different. For example, in a classification task we have text reviews that are sequential in nature and a sentiment label corresponding to each review which is binary in nature (+ or -). In machine translation or summarization, both the input and output are sequential. The `Field` class handles all such types of datasets. Therefore, we initialize `Field` objects for each type of data format present in our dataset.  \n",
    "\n",
    "In sentiment analysis we need two `Field` instances - one for text review and other for labels. For labels we use `LabelField` which inherits from `Field`. Following are some important parameters you might need while initializing a Field class.\n",
    "   - `tokenize`   : function used to tokenize the text. This can either be a custom function or passing 'spacy' uses the    SpaCy tokenizer.\n",
    "   - `init_token` : prepends this token in the beginning of each example. e.g. < sos >.\n",
    "   - `eos_token`  : appends this token in the end of each example. e.g. < eos >.\n",
    "   - `fix_length` : fixed, predefined length to which all the examples in field will be padded.\n",
    "   - `batch_first`: gives data in tensors that have batch dimension as the first dimension.  \n",
    "   \n",
    "Some important methods:\n",
    "   - `pad()` :  This method pads the examples to `fix_length` if provided as a parameter. If not, it calculates the length of the largest example in a batch and pads the sequences to that length.\n",
    "   - `build_vocab()`: The Field class holds an instance of Vocab class. This class is responsible for creating a vocabulary from the field data and creating mappings stoi (string to int) and itos (int to string) for each word.\n",
    "\n",
    "To summarize, the Field class numericalizes the text data and provides it in form of tensors so that they can be used easily with neural nets."
   ]
  },
  {
   "cell_type": "code",
   "execution_count": 1,
   "metadata": {},
   "outputs": [],
   "source": [
    "import torchtext\n",
    "from torchtext import data, datasets\n",
    "from torch import nn\n",
    "import torch\n",
    "import torch.optim as optim"
   ]
  },
  {
   "cell_type": "code",
   "execution_count": 3,
   "metadata": {},
   "outputs": [],
   "source": [
    "\n",
    "# creating field objects for text and labels \n",
    "review = data.Field(tokenize='spacy', batch_first=True)\n",
    "sentiment = data.LabelField(dtype=torch.float, batch_first=True)\n",
    "\n",
    "# loading the IMDB dataset\n",
    "train_data, test_data = datasets.IMDB.splits(text_field=review, label_field=sentiment)"
   ]
  },
  {
   "cell_type": "code",
   "execution_count": 4,
   "metadata": {},
   "outputs": [
    {
     "name": "stdout",
     "output_type": "stream",
     "text": [
      "{'text': ['This', 'is', 'not', 'the', 'typical', 'Mel', 'Brooks', 'film', '.', 'It', 'was', 'much', 'less', 'slapstick', 'than', 'most', 'of', 'his', 'movies', 'and', 'actually', 'had', 'a', 'plot', 'that', 'was', 'followable', '.', 'Leslie', 'Ann', 'Warren', 'made', 'the', 'movie', ',', 'she', 'is', 'such', 'a', 'fantastic', ',', 'under', '-', 'rated', 'actress', '.', 'There', 'were', 'some', 'moments', 'that', 'could', 'have', 'been', 'fleshed', 'out', 'a', 'bit', 'more', ',', 'and', 'some', 'scenes', 'that', 'could', 'probably', 'have', 'been', 'cut', 'to', 'make', 'the', 'room', 'to', 'do', 'so', ',', 'but', 'all', 'in', 'all', ',', 'this', 'is', 'worth', 'the', 'price', 'to', 'rent', 'and', 'see', 'it', '.', 'The', 'acting', 'was', 'good', 'overall', ',', 'Brooks', 'himself', 'did', 'a', 'good', 'job', 'without', 'his', 'characteristic', 'speaking', 'to', 'directly', 'to', 'the', 'audience', '.', 'Again', ',', 'Warren', 'was', 'the', 'best', 'actor', 'in', 'the', 'movie', ',', 'but', '\"', 'Fume', '\"', 'and', '\"', 'Sailor', '\"', 'both', 'played', 'their', 'parts', 'well', '.'], 'label': ['pos']}\n"
     ]
    }
   ],
   "source": [
    "print(vars(train_data.examples[4]))"
   ]
  },
  {
   "cell_type": "code",
   "execution_count": 45,
   "metadata": {},
   "outputs": [],
   "source": [
    "# dividing the training set further into a train and validation set\n",
    "train_data, valid_data = train_data.split()"
   ]
  },
  {
   "cell_type": "code",
   "execution_count": 46,
   "metadata": {},
   "outputs": [],
   "source": [
    "# some important parameters\n",
    "VOCAB_SIZE = 25000\n",
    "BATCH_SIZE = 64\n",
    "device = torch.device('cuda' if torch.cuda.is_available() else 'cpu')\n",
    "# build vocabulary for the fields\n",
    "review.build_vocab(train_data, max_size=VOCAB_SIZE)\n",
    "sentiment.build_vocab(train_data)\n",
    "\n",
    "# create iterators for the dataset. iterators enable looping through the dataset easily\n",
    "train_iterator, valid_iterator, test_iterator = data.BucketIterator.splits(\n",
    "    (train_data, valid_data, test_data), \n",
    "    batch_size = BATCH_SIZE,\n",
    "    device = device)"
   ]
  },
  {
   "cell_type": "code",
   "execution_count": 47,
   "metadata": {},
   "outputs": [
    {
     "name": "stdout",
     "output_type": "stream",
     "text": [
      "torch.Size([64, 1201])\n",
      "torch.Size([64])\n"
     ]
    }
   ],
   "source": [
    "x = next(iter(train_iterator))\n",
    "print(x.text.shape)\n",
    "print(x.label.shape)"
   ]
  },
  {
   "cell_type": "markdown",
   "metadata": {},
   "source": [
    "## Implementing the model\n",
    "Let's begin by understanding the layers that are going to be used in this model. We need to know 3 things about each layer in PyTorch - \n",
    "- parameters : used to instantiate the layer. These are the keyword args required to create an object of the class.\n",
    "- inputs : tensors passed to instantiated layer during `model.forward()` call\n",
    "- outputs : output of the layer\n",
    "\n",
    "### Embedding layer (nn.Embedding)\n",
    "This layer acts as a lookup table or a matrix which maps each token to its embedding or feature vector. This module is often used to store word embeddings and retrieve them using indices. \n",
    "\n",
    "#### Parameters\n",
    " - num_embeddings: size of vocabulary of the dataset. Number of words in the vocab.\n",
    " - embedding_dim : size of embedding vector for each word. 300 for word2vec. Each word will be mapped to a 300 (say) dimensional vector\n",
    "\n",
    "#### Inputs and outputs\n",
    "Embedding layer can accept tensors of aribitary shape, denoted by `[ * ]` and the output tensor's shape is `[ * ,H]`, where H is the embedding dimension of the layer. For example in case of sentiment analysis, the input will be of shape `[batch_size, seq_len]` and the output shape will be <br> `[ batch_size, seq_len, embedding_dim ]`. Intuitively, it replaces each word of each example in the batch by an embedding vector.\n",
    "\n",
    "### LSTM Layer (nn.LSTM)\n",
    "\n",
    "#### Parameters\n",
    " - input_size : The number of expected features in input. This means the dimension of the feature vector that will be input to an LSTM unit. For most NLP tasks, this is the `embedding_dim` because the words which are the input are represented by a vector of size `embedding_dim`.\n",
    " - hidden_size : Number of features you want the LSTM to learn about the pattern of your data.\n",
    " - num_layers : Number of layers in the LSTM network. If `num_layers` = 2, it means that you're stacking 2 LSTM layers. The input to the first LSTM layer would be the output of embedding layer whereas the input for second LSTM layer would be the output of first LSTM layer.\n",
    " - batch_first : If `True` then the input and output tensors are provided as `(batch_size, seq_len, feature)`.\n",
    " - dropout : If provided, applied between consecutive LSTM layers except the last layer.\n",
    " - bidirectional : If `True`, it becomes a bidirectional LSTM. That is it reads the sequence from both the directions. The forward direction starts from $x_{0}$ and goes till $x_{n}$ and backward direction goes from $x_{n}$ to $x_{0}$.\n"
   ]
  },
  {
   "cell_type": "markdown",
   "metadata": {},
   "source": [
    "\n",
    "`seq_len` mentioned above is the length of the input sentence. This will be the same for all the examples within a single batch.\n",
    "For the rest of this post we are going to take `batch_first` = `True`\n",
    "\n",
    "#### Inputs\n",
    " - input : Shape of tensor is `[batch_size, seq_len input_size]` if `batch_first = True`. This is usually the output from the embedding layer for most NLP tasks. \n",
    " - h_0 : `[batch_size, num_layers * num_directions, hidden_size]` Tensor containing initial hidden state for each element in batch.\n",
    " - c_0 : `[batch_size, num_layers * num_directions, hidden_size]` Tensor containing initial cell state for each element in batch.\n",
    "\n",
    "#### Outputs\n",
    "- output : `[batch_size, seq_len, num_directions * hidden_size]` Tensor containing the output features (h_t) from the last layer of the LSTM, for each t. \n",
    "- h_n : `[num_layers * num_directions, batch, hidden_size]`: tensor containing the hidden state for t = seq_len.\n",
    "- c_n : `[num_layers * num_directions, batch, hidden_size]`: tensor containing the cell state for t = seq_len.\n",
    "\n",
    "Understanding the outputs of the LSTM can be a bit difficult initially. The following diagram clearly explains what each of the outputs mean. \n",
    "The following figure shows a general case of LSTM implementation. \n",
    "<img src=\"images/lstmpt.PNG\" width=\"800\" height=\"550\"/> \n"
   ]
  },
  {
   "cell_type": "markdown",
   "metadata": {},
   "source": [
    "* The horizontal axis or the time axis determines the sequence length or the inputs at various time-steps. The vertical axis determines how many LSTM layers have been stacked together. Beginning from the first layer at the bottom, adding each layer increases the depth of the network. The number of layers are denoted by `w` in this figure.   \n"
   ]
  },
  {
   "cell_type": "markdown",
   "metadata": {},
   "source": [
    "* As evident, for each time-step t the LSTM unit takes in $h_{t-1}$, $c_{t-1}$ and $x_{t}$ and gives $h_{t}$  and $c_{t}$. The newly calculated $h_{t}$ and $c_{t}$ are passed to next LSTM unit as hidden and cell state of the sequnce seen so far. Simultaneously $h_{t}$ is also passed as the __output__ for that time-step. This is used as the input for stacked layers above the current layer and finally to calculate predictions. Therefore the `output` of LSTM layer actually contains the hidden states of all time-steps passed through all the layers. Basically, it holds ( $h^{w}_{1}$, $h^{w}_{2}$,  ... $h^{w}_{n}$).  \n"
   ]
  },
  {
   "cell_type": "markdown",
   "metadata": {},
   "source": [
    "* The final hidden and cell states denoted by $h_{n}$ and $c_{n}$ for all the layers are stacked in `(h_n, c_n)` output of the LSTM layer. Therefore `(h_n, c_n)` hold (($h^{1}_{n}$,  $c^{1}_{n}$) ,  ($h^{2}_{n}$,  $c^{2}_{n}$) ... ($h^{w}_{n}$,  $c^{w}_{n}$)) where `w` is number of layers stacked in the LSTM."
   ]
  },
  {
   "cell_type": "code",
   "execution_count": 48,
   "metadata": {},
   "outputs": [],
   "source": [
    "INPUT_SIZE = len(review.vocab)\n",
    "HIDDEN_SIZE = 128\n",
    "EMBEDDING_DIM = 100\n",
    "DROPOUT = 0.4\n",
    "NUM_LAYERS = 1\n",
    "BIDIRECTIONAL = False\n",
    "BATCH_SIZE = 64\n",
    "OUTPUT_DIM = 1"
   ]
  },
  {
   "cell_type": "code",
   "execution_count": 49,
   "metadata": {},
   "outputs": [],
   "source": [
    "class SentimentLSTM(nn.Module):\n",
    "    \n",
    "    def __init__(self, input_size, hidden_size, embedding_dim, dropout, num_layers, output_dim):\n",
    "        \n",
    "        super().__init__()\n",
    "        \n",
    "        self.embedding = nn.Embedding(num_embeddings=input_size, embedding_dim=embedding_dim)\n",
    "        \n",
    "        self.lstm = nn.LSTM(input_size=embedding_dim, hidden_size=hidden_size, num_layers=num_layers,\n",
    "                            batch_first=True)\n",
    "        \n",
    "        self.dropout = nn.Dropout(p=dropout)\n",
    "        \n",
    "        self.linear = nn.Linear(in_features=hidden_size, out_features=output_dim)\n",
    "        \n",
    "    \n",
    "    def forward(self, x):\n",
    "        \n",
    "        # x = [batch_size, seq_len] = [64, seq_len] as seq_len depends on the batch. \n",
    "        \n",
    "        embed = self.embedding(x)\n",
    "        \n",
    "        # embed = [batch_size, seq_len, embedding_dim] = [64, seq_len, 100]\n",
    "        \n",
    "        # These can be intuitively interpreted as: each example in the batch \n",
    "        # has a length of seq_len and each word in the sequence is represented\n",
    "        # by a vector of size 100.\n",
    "        \n",
    "        output, (hidden, cell) = self.lstm(embed)\n",
    "        \n",
    "        # output = [batch_size, seq_len, hidden_size] = [64, seq_len, 128]\n",
    "        # hidden = [num_layers*num_directions, batch_size, hidden_size] = [1, 64, 128]\n",
    "        # cell = [num_layers*num_directions, batch_size, hidden_size] = [1, 64, 128]\n",
    "        \n",
    "        # output is the concatenation of the hidden state from every time step, \n",
    "        # whereas hidden is simply the final hidden state. \n",
    "        # We verify this using the assert statement. \n",
    "        \n",
    "        output = output.permute(1,0,2)\n",
    "        \n",
    "        # hidden = [1, 64, 128]\n",
    "        # output = [seq_len, 64, 128]\n",
    "        \n",
    "        assert torch.equal(output[-1,:,:], hidden.squeeze(0))\n",
    "     \n",
    "        preds = self.linear(output[-1,:,:])\n",
    "        \n",
    "        # preds = [64, 1]\n",
    "        \n",
    "        return preds\n",
    "        "
   ]
  },
  {
   "cell_type": "code",
   "execution_count": 50,
   "metadata": {},
   "outputs": [],
   "source": [
    "model = SentimentLSTM(INPUT_SIZE, HIDDEN_SIZE, EMBEDDING_DIM, DROPOUT, NUM_LAYERS, OUTPUT_DIM)"
   ]
  },
  {
   "cell_type": "markdown",
   "metadata": {},
   "source": [
    "## Training the model"
   ]
  },
  {
   "cell_type": "markdown",
   "metadata": {},
   "source": [
    "A basic training loop involves the following steps\n",
    "* `forward` pass, i.e. multiplication of inputs with randomly initialized weights and carrying this on for all the layers.\n",
    "* calculate the `loss` of the predictions with the given target/ground truth.\n",
    "* calculate the gradient of the loss function and propagate it `backwards` to calculate gradients of all the layers\n",
    "* `updating` the weights of all the layers using the gradients so that the objective/loss function converges "
   ]
  },
  {
   "cell_type": "code",
   "execution_count": 51,
   "metadata": {},
   "outputs": [],
   "source": [
    "def accuracy(preds, y):\n",
    "    ''' Returns accuracy of the model.'''\n",
    "    \n",
    "    rounded_preds = torch.round(torch.sigmoid(preds))\n",
    "    correct = (rounded_preds == y).float()\n",
    "    acc = correct.sum() / len(correct)\n",
    "    return acc"
   ]
  },
  {
   "cell_type": "code",
   "execution_count": 52,
   "metadata": {},
   "outputs": [],
   "source": [
    "# define the loss function\n",
    "criterion = nn.BCEWithLogitsLoss()\n",
    "# determine the gradient descent algorithm to be used for updating weights\n",
    "optimizer = optim.SGD(model.parameters(), lr = 1e-3)"
   ]
  },
  {
   "cell_type": "code",
   "execution_count": 53,
   "metadata": {},
   "outputs": [],
   "source": [
    "# put model and loss on GPU\n",
    "model = model.to(device)\n",
    "criterion = criterion.to(device)"
   ]
  },
  {
   "cell_type": "markdown",
   "metadata": {},
   "source": [
    "The following function performs the training and evaluation simultaneously. Each line has been well documented."
   ]
  },
  {
   "cell_type": "code",
   "execution_count": 62,
   "metadata": {},
   "outputs": [],
   "source": [
    "def fit(model, criterion, optimizer, train_iterator, valid_iterator):\n",
    "    \n",
    "    # define number of epochs\n",
    "    epochs = 3\n",
    "    \n",
    "    # go through each epoch\n",
    "    for epoch in range(epochs):  \n",
    "        # put the model in training mode\n",
    "        model.train()   \n",
    "        # initialize losses and accuaracy for every epoch\n",
    "        train_loss = 0.\n",
    "        train_acc = 0.\n",
    "        valid_loss = 0.\n",
    "        valid_acc = 0.\n",
    "        print(\"Epoch: \", epoch)\n",
    "        \n",
    "        # go through each batch from the dataset\n",
    "        for batch in train_iterator:        \n",
    "            # calculate model predictions. squeeze(1) is done because the output of model is [64,1].\n",
    "            # criterion expects it to be of dimension [64].\n",
    "            preds = model(batch.text).squeeze(1) \n",
    "            # calculate loss for the batch\n",
    "            loss = criterion(preds, batch.label) \n",
    "            # add batch loss to total loss for the epoch\n",
    "            train_loss += loss.item()\n",
    "            # calculate accuracy for the batch\n",
    "            train_acc += accuracy(preds, batch.label).item()\n",
    "            # backward prop for loss function and calc gradients of all the layers in the net\n",
    "            loss.backward()    \n",
    "            # update the weights   \n",
    "            optimizer.step()         \n",
    "            # make the gradients zero before next step so that they don't accumulate\n",
    "            optimizer.zero_grad()     \n",
    "            \n",
    "        # print recorded results. Divide the total epoch loss/accuracy by the number of examples.\n",
    "        print('Training loss: ',train_loss / len(train_iterator))\n",
    "        print('Training accuracy: ', train_acc / len(train_iterator))\n",
    "        \n",
    "        # put the model in evaluation mode\n",
    "        model.eval()\n",
    "        # ensures that gradients are not calculated. Takes less time.\n",
    "        with torch.no_grad():\n",
    "            # loop through the valid iterator\n",
    "            for batch in valid_iterator:\n",
    "                preds = model(batch.text).squeeze(1)\n",
    "                loss = criterion(preds, batch.label)\n",
    "                \n",
    "                valid_loss += loss.item()\n",
    "                valid_acc += accuracy(preds, batch.label).item()\n",
    "        \n",
    "        print('Validation loss: ', valid_loss / len(valid_iterator))\n",
    "        print('Validation accuracy: ', valid_acc / len(valid_iterator))\n",
    "        print('-------------------------------------------------------------------------------')    \n",
    "                \n",
    "            "
   ]
  },
  {
   "cell_type": "code",
   "execution_count": 63,
   "metadata": {},
   "outputs": [
    {
     "name": "stdout",
     "output_type": "stream",
     "text": [
      "Epoch:  0\n",
      "Training loss:  0.6931361860602442\n",
      "Training accuracy:  0.5035274374659044\n",
      "Validation loss:  0.6933359392618729\n",
      "Validation accuracy:  0.4931585452819275\n",
      "-------------------------------------------------------------------------------\n",
      "Epoch:  1\n",
      "Training loss:  0.6932326938114027\n",
      "Training accuracy:  0.5008553832116789\n",
      "Validation loss:  0.693308207948329\n",
      "Validation accuracy:  0.4962040961293851\n",
      "-------------------------------------------------------------------------------\n",
      "Epoch:  2\n",
      "Training loss:  0.6932031631904797\n",
      "Training accuracy:  0.5027046403745665\n",
      "Validation loss:  0.6933137026883788\n",
      "Validation accuracy:  0.4962040961293851\n",
      "-------------------------------------------------------------------------------\n"
     ]
    }
   ],
   "source": [
    "fit(model, criterion, optimizer, train_iterator, valid_iterator)"
   ]
  },
  {
   "cell_type": "markdown",
   "metadata": {},
   "source": [
    "## References and Acknowledgements\n",
    "\n",
    "1. https://pytorch.org/docs/stable/nn.html\n",
    "2. https://stackoverflow.com/questions/48302810/whats-the-difference-between-hidden-and-output-in-pytorch-lstm\n",
    "3. https://github.com/udacity/deep-learning-v2-pytorch\n",
    "4. https://github.com/bentrevett"
   ]
  }
 ],
 "metadata": {
  "kernelspec": {
   "display_name": "Python 3",
   "language": "python",
   "name": "python3"
  },
  "language_info": {
   "codemirror_mode": {
    "name": "ipython",
    "version": 3
   },
   "file_extension": ".py",
   "mimetype": "text/x-python",
   "name": "python",
   "nbconvert_exporter": "python",
   "pygments_lexer": "ipython3",
   "version": "3.6.3"
  }
 },
 "nbformat": 4,
 "nbformat_minor": 2
}
